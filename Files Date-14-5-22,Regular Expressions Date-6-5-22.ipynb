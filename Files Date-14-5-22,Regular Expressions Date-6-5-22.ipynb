{
 "cells": [
  {
   "cell_type": "markdown",
   "id": "0e2c8e03",
   "metadata": {},
   "source": [
    "# File Handling Date:14-5-22"
   ]
  },
  {
   "cell_type": "code",
   "execution_count": 2,
   "id": "de61f5e2",
   "metadata": {},
   "outputs": [],
   "source": [
    "f=open(\"file.txt\")\n",
    "f.close()"
   ]
  },
  {
   "cell_type": "code",
   "execution_count": 3,
   "id": "6e3a3f74",
   "metadata": {},
   "outputs": [
    {
     "name": "stdout",
     "output_type": "stream",
     "text": [
      "Sravani Is Good girl 2003 @12\n",
      "this is ammani\n",
      "sravni is bad girl\n"
     ]
    }
   ],
   "source": [
    "f=open(\"file.txt\",\"r\")\n",
    "print(f.read())\n",
    "f.close()"
   ]
  },
  {
   "cell_type": "code",
   "execution_count": 4,
   "id": "21fae204",
   "metadata": {},
   "outputs": [
    {
     "name": "stdout",
     "output_type": "stream",
     "text": [
      "Sravani Is\n"
     ]
    }
   ],
   "source": [
    "f=open(\"file.txt\",\"r\")\n",
    "print(f.read(10))\n",
    "f.close()"
   ]
  },
  {
   "cell_type": "code",
   "execution_count": 5,
   "id": "004c0d5d",
   "metadata": {},
   "outputs": [
    {
     "name": "stdout",
     "output_type": "stream",
     "text": [
      "Sravani Is Good girl 2003 @12\n",
      "\n"
     ]
    }
   ],
   "source": [
    "f=open(\"file.txt\",\"r\")\n",
    "print(f.readline())\n",
    "f.close()"
   ]
  },
  {
   "cell_type": "code",
   "execution_count": 6,
   "id": "c2df834a",
   "metadata": {},
   "outputs": [
    {
     "name": "stdout",
     "output_type": "stream",
     "text": [
      "Sravani Is Good girl 2003 @12\n",
      "\n",
      "this is ammani\n",
      "\n"
     ]
    }
   ],
   "source": [
    "f=open(\"file.txt\",\"r\")\n",
    "print(f.readline())\n",
    "print(f.readline())\n",
    "f.close()"
   ]
  },
  {
   "cell_type": "code",
   "execution_count": 7,
   "id": "edaacec4",
   "metadata": {},
   "outputs": [],
   "source": [
    "f=open(\"file.txt\",\"a\")\n",
    "f.write(\"sravni is bad girl\")\n",
    "f.close()"
   ]
  },
  {
   "cell_type": "code",
   "execution_count": 8,
   "id": "c7a09263",
   "metadata": {},
   "outputs": [
    {
     "name": "stdout",
     "output_type": "stream",
     "text": [
      "Sravani Is Good girl 2003 @12\n",
      "this is ammani\n",
      "sravni is bad girlsravni is bad girl\n"
     ]
    }
   ],
   "source": [
    "f=open(\"file.txt\",\"r\")\n",
    "print(f.read())\n",
    "f.close()"
   ]
  },
  {
   "cell_type": "markdown",
   "id": "de6ab00a",
   "metadata": {},
   "source": [
    "# Regular Expressions  (14-5-22)"
   ]
  },
  {
   "cell_type": "code",
   "execution_count": 9,
   "id": "3166811b",
   "metadata": {},
   "outputs": [
    {
     "name": "stdout",
     "output_type": "stream",
     "text": [
      "['a', 'a', 'a', 'a']\n"
     ]
    }
   ],
   "source": [
    "#find all produce the no of occernces characters in txt if not available get empty string\n",
    "import re\n",
    "txt=\"i am ammani poluparthi\"\n",
    "x=re.findall(\"a\",txt)\n",
    "print(x)"
   ]
  },
  {
   "cell_type": "code",
   "execution_count": 10,
   "id": "fd122362",
   "metadata": {},
   "outputs": [
    {
     "name": "stdout",
     "output_type": "stream",
     "text": [
      "<re.Match object; span=(5, 9), match='amma'>\n"
     ]
    }
   ],
   "source": [
    "#search to find txt is matched or not it matched it gives match object else null\n",
    "import re\n",
    "txt=\"i am ammani poluparthi\"\n",
    "x=re.search(\"amma\",txt)\n",
    "print(x)"
   ]
  },
  {
   "cell_type": "code",
   "execution_count": 11,
   "id": "05e5bb2c",
   "metadata": {},
   "outputs": [
    {
     "name": "stdout",
     "output_type": "stream",
     "text": [
      "5\n",
      "(5, 9)\n",
      "i am ammani poluparthi\n",
      "amma\n"
     ]
    }
   ],
   "source": [
    "#match obeject types\n",
    "#index no\n",
    "print(x.start())\n",
    "#gives range\n",
    "print(x.span())\n",
    "print(x.string)\n",
    "print(x.group())"
   ]
  },
  {
   "cell_type": "code",
   "execution_count": 12,
   "id": "6af574d9",
   "metadata": {},
   "outputs": [
    {
     "name": "stdout",
     "output_type": "stream",
     "text": [
      "['i am ', ' poluparthi']\n",
      "['', 'i', ' ', 'a', 'm', ' ', 'a', 'm', 'm', 'a', 'n', 'i', ' ', 'p', 'o', 'l', 'u', 'p', 'a', 'r', 't', 'h', 'i', '']\n"
     ]
    }
   ],
   "source": [
    "import re\n",
    "txt=\"i am ammani poluparthi\"\n",
    "x=re.split(\"ammani\",txt)\n",
    "y=re.split(\"\",txt)\n",
    "print(x)\n",
    "print(y)"
   ]
  },
  {
   "cell_type": "code",
   "execution_count": 13,
   "id": "d0dda290",
   "metadata": {},
   "outputs": [
    {
     "name": "stdout",
     "output_type": "stream",
     "text": [
      "i am sravani poluparthi\n"
     ]
    }
   ],
   "source": [
    "#sub() is replace\n",
    "import re\n",
    "txt=\"i am ammani poluparthi\"\n",
    "x=re.sub(\"ammani\",\"sravani\",txt)\n",
    "print(x)"
   ]
  },
  {
   "cell_type": "code",
   "execution_count": null,
   "id": "eff95b49",
   "metadata": {},
   "outputs": [],
   "source": []
  }
 ],
 "metadata": {
  "kernelspec": {
   "display_name": "Python 3 (ipykernel)",
   "language": "python",
   "name": "python3"
  },
  "language_info": {
   "codemirror_mode": {
    "name": "ipython",
    "version": 3
   },
   "file_extension": ".py",
   "mimetype": "text/x-python",
   "name": "python",
   "nbconvert_exporter": "python",
   "pygments_lexer": "ipython3",
   "version": "3.9.7"
  }
 },
 "nbformat": 4,
 "nbformat_minor": 5
}
