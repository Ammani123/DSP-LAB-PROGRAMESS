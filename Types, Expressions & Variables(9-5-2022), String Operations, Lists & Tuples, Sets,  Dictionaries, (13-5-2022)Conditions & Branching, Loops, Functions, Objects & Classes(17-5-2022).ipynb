{
 "cells": [
  {
   "cell_type": "markdown",
   "id": "347a814e",
   "metadata": {},
   "source": [
    "# data types Date:6-5-22"
   ]
  },
  {
   "cell_type": "code",
   "execution_count": 4,
   "id": "1e11af47",
   "metadata": {},
   "outputs": [
    {
     "data": {
      "text/plain": [
       "int"
      ]
     },
     "execution_count": 4,
     "metadata": {},
     "output_type": "execute_result"
    }
   ],
   "source": [
    "x=12\n",
    "type(x)"
   ]
  },
  {
   "cell_type": "code",
   "execution_count": 2,
   "id": "8fee3834",
   "metadata": {},
   "outputs": [
    {
     "data": {
      "text/plain": [
       "float"
      ]
     },
     "execution_count": 2,
     "metadata": {},
     "output_type": "execute_result"
    }
   ],
   "source": [
    "y=12.3\n",
    "type(y)"
   ]
  },
  {
   "cell_type": "code",
   "execution_count": 5,
   "id": "ba77d7ba",
   "metadata": {},
   "outputs": [
    {
     "data": {
      "text/plain": [
       "complex"
      ]
     },
     "execution_count": 5,
     "metadata": {},
     "output_type": "execute_result"
    }
   ],
   "source": [
    "x=1+2j\n",
    "type(x)"
   ]
  },
  {
   "cell_type": "code",
   "execution_count": 12,
   "id": "6e5cf1d9",
   "metadata": {},
   "outputs": [
    {
     "name": "stdout",
     "output_type": "stream",
     "text": [
      "<class 'float'>\n"
     ]
    },
    {
     "data": {
      "text/plain": [
       "12.0"
      ]
     },
     "execution_count": 12,
     "metadata": {},
     "output_type": "execute_result"
    }
   ],
   "source": [
    "x=12\n",
    "a=float(x)\n",
    "print(type(a))\n",
    "a"
   ]
  },
  {
   "cell_type": "code",
   "execution_count": 10,
   "id": "92161d76",
   "metadata": {},
   "outputs": [
    {
     "data": {
      "text/plain": [
       "12"
      ]
     },
     "execution_count": 10,
     "metadata": {},
     "output_type": "execute_result"
    }
   ],
   "source": [
    "x=12.4\n",
    "b=int(x)\n",
    "b"
   ]
  },
  {
   "cell_type": "code",
   "execution_count": 15,
   "id": "cc65698c",
   "metadata": {},
   "outputs": [
    {
     "name": "stdout",
     "output_type": "stream",
     "text": [
      "30.3\n"
     ]
    },
    {
     "data": {
      "text/plain": [
       "float"
      ]
     },
     "execution_count": 15,
     "metadata": {},
     "output_type": "execute_result"
    }
   ],
   "source": [
    "#operators\n",
    "x=28+2.3\n",
    "print(x)\n",
    "type(x)"
   ]
  },
  {
   "cell_type": "code",
   "execution_count": 17,
   "id": "7d15cf18",
   "metadata": {},
   "outputs": [
    {
     "name": "stdout",
     "output_type": "stream",
     "text": [
      "39\n"
     ]
    }
   ],
   "source": [
    "a=35\n",
    "b=4.8\n",
    "sum=a+int(b)\n",
    "print(sum)"
   ]
  },
  {
   "cell_type": "code",
   "execution_count": 43,
   "id": "88b39366",
   "metadata": {},
   "outputs": [
    {
     "name": "stdout",
     "output_type": "stream",
     "text": [
      "-55\n",
      "55\n",
      "-56\n",
      "Arithmatic operators\n",
      "x+y= 24\n",
      "x-y= 16\n",
      "x*y= 80\n",
      "x/y= 5.0\n",
      "x//y= 5\n",
      "x%y= 0\n",
      "x**y= 160000\n",
      "comparison operators\n",
      "True\n",
      "False\n",
      "True\n",
      "False\n",
      "False\n",
      "True\n"
     ]
    }
   ],
   "source": [
    "#unary opeartors\n",
    "x=55\n",
    "print(-x)\n",
    "print(+x)\n",
    "print(~x)\n",
    "#Arthematic operators\n",
    "print(\"Arithmatic operators\")\n",
    "x=20\n",
    "y=4\n",
    "print(\"x+y=\",x+y)\n",
    "print(\"x-y=\",x-y)\n",
    "print(\"x*y=\",x*y)\n",
    "print(\"x/y=\",x/y)\n",
    "print(\"x//y=\",x//y)\n",
    "print(\"x%y=\",x%y)\n",
    "print(\"x**y=\",x**y)\n",
    "#comparison operators\n",
    "print(\"comparison operators\")\n",
    "a=10\n",
    "b=20\n",
    "print(a<b)\n",
    "print(a>b)\n",
    "print(a<=b)\n",
    "print(a>=b)\n",
    "print(a==b)\n",
    "print(a!=b)"
   ]
  },
  {
   "cell_type": "code",
   "execution_count": 50,
   "id": "dc94bff9",
   "metadata": {},
   "outputs": [
    {
     "name": "stdout",
     "output_type": "stream",
     "text": [
      "bitwise operators\n",
      "p&q= 2\n",
      "p|q= 11\n",
      "~p= -11\n",
      "False\n",
      "True\n",
      "True\n",
      "False\n"
     ]
    }
   ],
   "source": [
    "#bitwise operators \n",
    "print(\"bitwise operators\")\n",
    "p=10\n",
    "q=3\n",
    "r=10\n",
    "print(\"p&q=\",p&q)\n",
    "print(\"p|q=\",p|q)\n",
    "print(\"~p=\",~p)\n",
    "#logical operators\n",
    "x=(45==6)\n",
    "y=(6>4)\n",
    "a=x and y\n",
    "b=x or y\n",
    "c=not x\n",
    "d=not y\n",
    "print(a)\n",
    "print(b)\n",
    "print(c)\n",
    "print(d)"
   ]
  },
  {
   "cell_type": "code",
   "execution_count": 65,
   "id": "f4dd1fb7",
   "metadata": {},
   "outputs": [
    {
     "name": "stdout",
     "output_type": "stream",
     "text": [
      "31\n",
      "41.0\n",
      "149\n",
      "combinational exp\n",
      "46\n",
      "116\n"
     ]
    }
   ],
   "source": [
    "#expressions\n",
    "a=5+8+9*(3-1)\n",
    "print(a)\n",
    "b=(20/5)-3+8*5\n",
    "print(b)\n",
    "c=60-40+30*4+(3+6)\n",
    "print(c)\n",
    "#combinational expressions\n",
    "print(\"combinational exp\")\n",
    "a=34\n",
    "b=24\n",
    "c=a+(b>>1)\n",
    "print(c)\n",
    "x=(a<<1)+(b<<1)\n",
    "print(x)\n"
   ]
  },
  {
   "cell_type": "code",
   "execution_count": 69,
   "id": "593b7045",
   "metadata": {},
   "outputs": [
    {
     "data": {
      "text/plain": [
       "2.5"
      ]
     },
     "execution_count": 69,
     "metadata": {},
     "output_type": "execute_result"
    }
   ],
   "source": [
    "a=10\n",
    "b=4\n",
    "a//b\n",
    "a/b"
   ]
  },
  {
   "cell_type": "code",
   "execution_count": 73,
   "id": "6bf07401",
   "metadata": {},
   "outputs": [
    {
     "name": "stdout",
     "output_type": "stream",
     "text": [
      "10\n",
      "20\n",
      "----\n",
      "20\n",
      "30\n",
      "40\n",
      "---\n",
      "3\n",
      "3\n",
      "3.0\n"
     ]
    }
   ],
   "source": [
    "#variables\n",
    "a=10\n",
    "b=20\n",
    "print(a)\n",
    "print(b)\n",
    "print(\"----\")\n",
    "a,b,c=20,30,40\n",
    "print(a)\n",
    "print(b)\n",
    "print(c)\n",
    "print(\"---\")\n",
    "x=str(3)\n",
    "y=int(3)\n",
    "z=float(3)\n",
    "print(x)\n",
    "print(y)\n",
    "print(z)"
   ]
  },
  {
   "cell_type": "markdown",
   "id": "4a312399",
   "metadata": {},
   "source": [
    "# string operations Date:9-5-22"
   ]
  },
  {
   "cell_type": "markdown",
   "id": "b0bf6dfe",
   "metadata": {},
   "source": [
    "it is a sequence of elements and characters\n",
    "immutable,changeble,ordered,allow duplicate values"
   ]
  },
  {
   "cell_type": "code",
   "execution_count": 149,
   "id": "30d7f922",
   "metadata": {},
   "outputs": [
    {
     "name": "stdout",
     "output_type": "stream",
     "text": [
      " Ammani is good girl good\n",
      " AMMANI IS GOOD GIRL GOOD\n",
      " ammani is good girl good\n",
      "25\n",
      " ammani is good girl good\n",
      "False\n",
      "False\n",
      "2\n",
      "True\n",
      "(' Ammani ', 'is', ' good girl good')\n",
      "sSravaniwSravaniaSravanimSravanii\n",
      " Ammani is bad girl bad\n",
      "['Ammani', 'is', 'good', 'girl', 'good']\n",
      " aMMANI IS GOOD GIRL GOOD\n",
      "s\n",
      "a\n",
      "True\n",
      "Ammani is good girl good\n",
      " ammani is good girl good\n",
      "b' Ammani is good girl good'\n",
      "2\n"
     ]
    }
   ],
   "source": [
    "x=\" Ammani is good girl good\"\n",
    "y=\"Sravani\"\n",
    "z=\"swami\"\n",
    "a=\"teacher123\"\n",
    "print(x)\n",
    "print(x.upper())\n",
    "print(x.lower())\n",
    "print(len(x))\n",
    "print(x.capitalize())\n",
    "print(x.isalpha())\n",
    "print(x.isdigit())\n",
    "print(x.count(\"m\"))\n",
    "print(y.istitle())\n",
    "print(x.partition(\"is\"))\n",
    "print(y.join(z))\n",
    "print(x.replace(\"good\",\"bad\"))\n",
    "print(x.split())\n",
    "print(x.swapcase())\n",
    "print(max(x))\n",
    "print(min(z))\n",
    "print(a.isalnum())\n",
    "print(x.strip())\n",
    "print(x.casefold())\n",
    "print(x.encode())\n",
    "print(x.find(\"m\"))"
   ]
  },
  {
   "cell_type": "markdown",
   "id": "cc5d1a21",
   "metadata": {},
   "source": [
    "# list operations Date:18-5-22"
   ]
  },
  {
   "cell_type": "markdown",
   "id": "046d3ec7",
   "metadata": {},
   "source": [
    "list is collection of elements\n",
    "mutable,changeable,ordered,allow to duplicate values"
   ]
  },
  {
   "cell_type": "code",
   "execution_count": 225,
   "id": "c1607ff7",
   "metadata": {},
   "outputs": [
    {
     "name": "stdout",
     "output_type": "stream",
     "text": [
      "[1, 2, 3, 4, 5, 3, 2]\n",
      "7\n",
      "[1, 2, 3, 4, 5, 3, 2, 10, 20, 30, 40, 50]\n",
      "[1, 2, 5, 4, 5, 3, 2]\n",
      "2\n",
      "10\n",
      "5\n",
      "10\n",
      "[1, 2, 5, 4, 5, 3, 10, 20, 30, 40, 50]\n",
      "2\n",
      "[50, 40, 30, 20, 10, 3, 5, 4, 5, 2, 1]\n",
      "[50, 40, 30, 20, 10, 3, 5, 4, 5, 2, 1, 9]\n",
      "[1, 2, 3, 4, 5, 5, 9, 10, 20, 30, 40, 50]\n",
      "[1, 2, 3, 4, 5, 5, 10, 20, 30, 40, 50]\n",
      "[10, 20, 30, 40, 50]\n"
     ]
    }
   ],
   "source": [
    "l1=[1,2,3,4,5,3,2]\n",
    "l2=[10,20,30,40,50]\n",
    "print(l1)\n",
    "print(len(l1))\n",
    "concatenate=l1+l2\n",
    "print(concatenate)\n",
    "replace=l1[2]=5\n",
    "print(l1)\n",
    "l2.index(30)\n",
    "x=l1.insert(2,10)\n",
    "l1\n",
    "print(l1.pop())\n",
    "print(l1.pop(2))\n",
    "print(max(l1))\n",
    "print(min(l2))\n",
    "extend=l1.extend(l2)\n",
    "print(l1)\n",
    "print(l1.count(5))\n",
    "l1.reverse()\n",
    "print(l1)\n",
    "l1.append(9)\n",
    "print(l1)\n",
    "l1.sort()\n",
    "print(l1)\n",
    "l1.remove(9)\n",
    "print(l1)\n",
    "l2.copy()\n",
    "print(l2)"
   ]
  },
  {
   "cell_type": "code",
   "execution_count": 237,
   "id": "fd2a3dc6",
   "metadata": {},
   "outputs": [
    {
     "name": "stdout",
     "output_type": "stream",
     "text": [
      "[]\n"
     ]
    },
    {
     "data": {
      "text/plain": [
       "[1, 4, 7]"
      ]
     },
     "execution_count": 237,
     "metadata": {},
     "output_type": "execute_result"
    }
   ],
   "source": [
    "#slicing in lists\n",
    "l=[1,2,3,4,5,6,7,8,9]\n",
    "l[2:5]\n",
    "l[:5]\n",
    "l[2:]\n",
    "print(l[3:3])\n",
    "l[:-2]\n",
    "l[0:-4]\n",
    "l[-2:2]\n",
    "l[:]\n",
    "l[::2]\n",
    "l[::3]"
   ]
  },
  {
   "cell_type": "markdown",
   "id": "a0bd0a1b",
   "metadata": {},
   "source": [
    "# Tuple operations Date:18-5-22"
   ]
  },
  {
   "cell_type": "markdown",
   "id": "7a74813a",
   "metadata": {},
   "source": [
    "tuple is used to store the multiple items in a single variable\n",
    "immutable,unchangeble,ordered,allow duplicates"
   ]
  },
  {
   "cell_type": "code",
   "execution_count": 39,
   "id": "b0e86f86",
   "metadata": {},
   "outputs": [
    {
     "name": "stdout",
     "output_type": "stream",
     "text": [
      "(1, 2, 3, 5)\n",
      "5\n",
      "1\n",
      "11\n",
      "True\n",
      "True\n",
      "[5, 3, 2, 1]\n",
      "[1, 2, 3, 5]\n",
      "2\n",
      "1\n",
      "4\n",
      "(1, 2)\n",
      "(10, 20, 30, 40, 60, 80, 70)\n",
      "True\n",
      "False\n",
      "((60, 80, 70), (100, 90))\n"
     ]
    }
   ],
   "source": [
    "t=(1,2,3,5)\n",
    "t1=[10,20,30,40]\n",
    "print(t)\n",
    "print(max(t))\n",
    "print(min(t))\n",
    "print(sum(t))\n",
    "print(all(t))\n",
    "print(any(t))\n",
    "print(list(reversed(t)))\n",
    "print(sorted(t))\n",
    "print(t.index(3))\n",
    "print(t.count(2))\n",
    "print(len(t))\n",
    "print(t[0:2])\n",
    "t1=(10,20,30,40)\n",
    "t2=(60,80,70)\n",
    "print(t1+t2)\n",
    "print(30 in t1)\n",
    "print(90 in t2)\n",
    "t3=t2,(100,90)\n",
    "print(t3)"
   ]
  },
  {
   "cell_type": "markdown",
   "id": "bb9e4c3d",
   "metadata": {},
   "source": [
    "# sets Date:17-5-22"
   ]
  },
  {
   "cell_type": "markdown",
   "id": "41eb84b4",
   "metadata": {},
   "source": [
    "sets is used to store the multiple items in a single variable\n",
    "mutable,changeble,unorderd,not allowed duplicates,{},  ,"
   ]
  },
  {
   "cell_type": "code",
   "execution_count": 100,
   "id": "cf32622c",
   "metadata": {},
   "outputs": [
    {
     "name": "stdout",
     "output_type": "stream",
     "text": [
      "{1, 2, 3, 4}\n",
      "4\n",
      "4\n",
      "1\n",
      "10\n",
      "[1, 2, 3, 4]\n",
      "{1, 2, 3, 4, 10}\n",
      "{1, 2, 3, 4, 40, 10, 50, 20, 30}\n",
      "{1, 2, 3, 4, 40, 10, 20, 30}\n",
      "{1, 2, 3, 4, 10, 20, 30}\n",
      "{2, 3, 4, 10, 20, 30}\n",
      "set()\n",
      "{70, 40, 10, 80, 50, 20, 90, 60, 30}\n",
      "{80}\n",
      "{40, 10, 20, 30}\n",
      "{70, 10, 20, 90, 30, 40, 50, 60}\n",
      "None\n",
      "{80, 50, 70, 90, 60}\n",
      "True\n",
      "False\n",
      "True\n",
      "True\n"
     ]
    }
   ],
   "source": [
    "s={1,2,3,4}\n",
    "print(s)\n",
    "print(len(s))\n",
    "print(max(s))\n",
    "print(min(s))\n",
    "print(sum(s))\n",
    "print(sorted(s))\n",
    "s.add(10)\n",
    "print(s)\n",
    "s.update([20,30,],[40,50])\n",
    "print(s)\n",
    "s.discard(50)\n",
    "print(s)\n",
    "s.remove(40)\n",
    "print(s)\n",
    "s.pop()\n",
    "print(s)\n",
    "s.clear()\n",
    "print(s)\n",
    "s1={10,20,30,40,80}\n",
    "s2={50,60,70,80,90}\n",
    "print(s1.union(s2))\n",
    "print(s1.intersection(s2))\n",
    "print(s1.difference(s2))\n",
    "print(s1.symmetric_difference(s2))\n",
    "print(s1.difference_update(s2))\n",
    "x=s2.copy()\n",
    "print(x)\n",
    "print(s1.isdisjoint(s2))\n",
    "s1={1,2,3,4,5}\n",
    "s2={1,2,3,4,10,20,30,5}\n",
    "print(s1.isdisjoint(s2))\n",
    "print(s1.issubset(s2))\n",
    "print(s2.issuperset(s1))"
   ]
  },
  {
   "cell_type": "markdown",
   "id": "96e87ef3",
   "metadata": {},
   "source": [
    "# Dictionaries Date:17-5-22"
   ]
  },
  {
   "cell_type": "markdown",
   "id": "5abdf30f",
   "metadata": {},
   "source": [
    "it is a sequence of items\n",
    "mutable,changeble,orderd,not allow duplicates,{}, ,"
   ]
  },
  {
   "cell_type": "code",
   "execution_count": 54,
   "id": "84f27f68",
   "metadata": {},
   "outputs": [
    {
     "name": "stdout",
     "output_type": "stream",
     "text": [
      "{1: 'a', 2: 'b', 3: 'c', 4: 'd', 5: 'e'}\n",
      "<class 'dict'>\n",
      "5\n",
      "dict_items([(1, 'a'), (2, 'b'), (3, 'c'), (4, 'd'), (5, 'e')])\n",
      "dict_keys([1, 2, 3, 4, 5])\n",
      "dict_values(['a', 'b', 'c', 'd', 'e'])\n",
      "{1: 'a', 2: 'b', 3: 'c', 4: 'd', 5: 'e'}\n",
      "{1: 'a', 2: 'b', 3: 'c', 4: 'd', 5: 'e'}\n",
      "d\n",
      "b\n",
      "{1: 'a', 2: 8, 3: 'c', 4: 'd', 5: 'e'}\n",
      "{1: 'a', 2: 8, 3: 'z', 4: 'd', 5: 'e'}\n",
      "{1: 'a', 2: 8, 3: 'z', 4: 'd', 5: 'e', 'w': 10}\n",
      "{1: 'a', 2: 8, 3: 'z', 4: 'd', 5: 'e'}\n",
      "{1: 'a', 2: 8, 3: 'z', 4: 'd'}\n",
      "{}\n",
      "{'c': 4, 'b': 4, 'a': 4}\n"
     ]
    },
    {
     "data": {
      "text/plain": [
       "{'c': 4, 'b': 4, 'a': 4}"
      ]
     },
     "execution_count": 54,
     "metadata": {},
     "output_type": "execute_result"
    }
   ],
   "source": [
    "d={1:\"a\",2:\"b\",3:\"c\",4:\"d\",5:\"e\"}\n",
    "print(d)\n",
    "print(type(d))\n",
    "print(len(d))\n",
    "print(d.items())\n",
    "print(d.keys())\n",
    "print(d.values())\n",
    "x=d.copy()\n",
    "print(x)\n",
    "print(d.copy())\n",
    "print(d.get(4))\n",
    "print(d[2])\n",
    "d[2]=8\n",
    "print(d)\n",
    "d[3]=\"z\"\n",
    "print(d)\n",
    "d.update({\"w\":10})\n",
    "print(d)\n",
    "d.pop(\"w\")\n",
    "print(d)\n",
    "d.popitem()\n",
    "print(d)\n",
    "d.clear()\n",
    "print(d)\n",
    "x={\"a\",\"b\",\"c\"}\n",
    "y=4\n",
    "d=dict.fromkeys(x,y)\n",
    "print(d)\n",
    "d"
   ]
  },
  {
   "cell_type": "markdown",
   "id": "d6411132",
   "metadata": {},
   "source": [
    "# Conditions & Branching Date:16-5-22"
   ]
  },
  {
   "cell_type": "markdown",
   "id": "0e182dd9",
   "metadata": {},
   "source": [
    "conditions evaluted and processed as true or false\n",
    "if,if-else,elif,nested  if else"
   ]
  },
  {
   "cell_type": "code",
   "execution_count": 68,
   "id": "1450c7fa",
   "metadata": {},
   "outputs": [
    {
     "name": "stdout",
     "output_type": "stream",
     "text": [
      "Enter the number-3\n",
      "number is negative\n",
      "Enter the number3\n",
      "number is odd\n"
     ]
    }
   ],
   "source": [
    "#number is positive or negative\n",
    "n=int(input(\"Enter the number\"))\n",
    "if n>0:\n",
    "    print(\"number is a positive number\")\n",
    "elif n==0:\n",
    "    print(\"number is zero\")\n",
    "else:\n",
    "    print(\"number is negative\")\n",
    "    \n",
    "#given number is even or not\n",
    "n=int(input(\"Enter the number\"))\n",
    "if n%2==0:\n",
    "    print(\"number is even\")\n",
    "else:\n",
    "     print(\"number is odd\")"
   ]
  },
  {
   "cell_type": "code",
   "execution_count": 75,
   "id": "00464c87",
   "metadata": {},
   "outputs": [
    {
     "name": "stdout",
     "output_type": "stream",
     "text": [
      "Enter the number2000\n",
      "2000 is leap year\n"
     ]
    }
   ],
   "source": [
    "#leap year or not\n",
    "n=int(input(\"Enter the number\"))\n",
    "if n%4==0:\n",
    "    if n%100==0:\n",
    "        if n%400==0:\n",
    "            print(n,\"is leap year\")\n",
    "        else:\n",
    "            print(n,\"is not leap year\")\n",
    "    else:\n",
    "         print(n,\"is leap year\")\n",
    "else:\n",
    "    print(n,\"year is not leap year\")"
   ]
  },
  {
   "cell_type": "code",
   "execution_count": 77,
   "id": "c8a97529",
   "metadata": {},
   "outputs": [
    {
     "name": "stdout",
     "output_type": "stream",
     "text": [
      "Enter first numbers10\n",
      "Enter secound numbers20\n",
      "Enter third numbers30\n",
      "c is big\n"
     ]
    }
   ],
   "source": [
    "#grater element among three numbers\n",
    "a=int(input(\"Enter first numbers\"))\n",
    "b=int(input(\"Enter secound numbers\"))\n",
    "c=int(input(\"Enter third numbers\"))\n",
    "if(a>b&a>c):\n",
    "    print(\"a is big\")\n",
    "elif(b>a&b>c):\n",
    "    print(\"b is big\")\n",
    "else:\n",
    "    print(\"c is big\")"
   ]
  },
  {
   "cell_type": "code",
   "execution_count": 87,
   "id": "6b35d9db",
   "metadata": {},
   "outputs": [
    {
     "name": "stdout",
     "output_type": "stream",
     "text": [
      "numbers from 1 to 10:\n",
      "1\n",
      "2\n",
      "3\n",
      "4\n",
      "5\n",
      "6\n",
      "7\n",
      "8\n",
      "9\n",
      "10\n",
      "numbers from 10 to 1\n",
      "10\n",
      "9\n",
      "8\n",
      "7\n",
      "6\n",
      "5\n",
      "4\n",
      "3\n",
      "2\n",
      "1\n"
     ]
    }
   ],
   "source": [
    "#loops\n",
    "#print numbers from 1 to 10 and 10 to 1\n",
    "print(\"numbers from 1 to 10:\")\n",
    "for i in range(1,11,1):\n",
    "    print(i)\n",
    "print(\"numbers from 10 to 1\")\n",
    "for i in range(10,0,-1):\n",
    "    print(i)"
   ]
  },
  {
   "cell_type": "code",
   "execution_count": 96,
   "id": "b08add5e",
   "metadata": {},
   "outputs": [
    {
     "name": "stdout",
     "output_type": "stream",
     "text": [
      "even numbers upto 10\n",
      "2\n",
      "4\n",
      "6\n",
      "8\n",
      "10\n",
      "odd numbers upto 100\n",
      "1\n",
      "3\n",
      "5\n",
      "7\n",
      "9\n"
     ]
    }
   ],
   "source": [
    "#even and odd numbers upto 100\n",
    "print(\"even numbers upto 10\")\n",
    "for i in range(2,11,2):\n",
    "    print(i)\n",
    "print(\"odd numbers upto 100\")\n",
    "for i in range(1,11,2):\n",
    "    print(i)"
   ]
  },
  {
   "cell_type": "code",
   "execution_count": 102,
   "id": "f9455718",
   "metadata": {},
   "outputs": [
    {
     "name": "stdout",
     "output_type": "stream",
     "text": [
      "Enter the numbers4\n",
      "10\n"
     ]
    }
   ],
   "source": [
    "#print sum of n numbers\n",
    "n=int(input(\"Enter the numbers\"))\n",
    "temp=0\n",
    "for i in range(1,n+1,1):\n",
    "    temp+=i\n",
    "print(temp)"
   ]
  },
  {
   "cell_type": "code",
   "execution_count": 106,
   "id": "97ebf0fc",
   "metadata": {},
   "outputs": [
    {
     "name": "stdout",
     "output_type": "stream",
     "text": [
      "Enter the numbers5\n",
      "120\n"
     ]
    }
   ],
   "source": [
    "#factorial numbers\n",
    "n=int(input(\"Enter the numbers\"))\n",
    "temp=1\n",
    "for i in range(1,n+1,1):\n",
    "    temp*=i\n",
    "print(temp)"
   ]
  },
  {
   "cell_type": "code",
   "execution_count": 107,
   "id": "a1553719",
   "metadata": {},
   "outputs": [
    {
     "name": "stdout",
     "output_type": "stream",
     "text": [
      "Enter a number4\n",
      "30\n"
     ]
    }
   ],
   "source": [
    "#print sum of squres of the n numbers\n",
    "n=int(input(\"Enter a number\"))\n",
    "temp=0\n",
    "for i in range(1,n+1):\n",
    "    temp+=i*i\n",
    "print(temp)"
   ]
  },
  {
   "cell_type": "code",
   "execution_count": 116,
   "id": "aadb73c3",
   "metadata": {},
   "outputs": [
    {
     "name": "stdout",
     "output_type": "stream",
     "text": [
      "Enter the number9\n",
      "it is prime 9\n"
     ]
    }
   ],
   "source": [
    "#number is prime or not\n",
    "n=int(input(\"Enter the number\"))\n",
    "count=0\n",
    "if n>1:\n",
    "    for i in range(2,n+1):\n",
    "        if(n%2)==0:\n",
    "            count=1\n",
    "            break\n",
    "if count==1:\n",
    "    print(\"it is not prime\",n)\n",
    "else:\n",
    "    print(\"it is prime\",n)"
   ]
  },
  {
   "cell_type": "code",
   "execution_count": 119,
   "id": "9dd0c9bc",
   "metadata": {},
   "outputs": [
    {
     "name": "stdout",
     "output_type": "stream",
     "text": [
      "Enter the starting range2\n",
      "Enter the ending range10\n",
      "renge between the numbers a to b\n",
      "2\n"
     ]
    }
   ],
   "source": [
    "#prime numbers between some intervals\n",
    "a=int(input(\"Enter the starting range\"))\n",
    "b=int(input(\"Enter the ending range\"))\n",
    "print(\"renge between the numbers a to b\")\n",
    "if n>1:\n",
    "    for i in range(2,i):\n",
    "        if(n%i)==0:\n",
    "            break\n",
    "    else:\n",
    "        print(i)"
   ]
  },
  {
   "cell_type": "code",
   "execution_count": 126,
   "id": "f938bf0a",
   "metadata": {},
   "outputs": [
    {
     "name": "stdout",
     "output_type": "stream",
     "text": [
      "Enter the first numbers3\n",
      "Enter the secound numbers8\n",
      "3 8 are coprime numbers\n"
     ]
    }
   ],
   "source": [
    "#programe to check the coprime or not\n",
    "a=int(input(\"Enter the first numbers\"))\n",
    "b=int(input(\"Enter the secound numbers\"))\n",
    "x=min(a,b)\n",
    "for i in range(1,x+1):\n",
    "    if a%i==0 and b%i==0:\n",
    "        hcf=i\n",
    "if hcf==1:\n",
    "    print(a,b,\"are coprime numbers\") \n",
    "else:\n",
    "    print(a,b,\"are not coprime\")"
   ]
  },
  {
   "cell_type": "code",
   "execution_count": 129,
   "id": "53de0060",
   "metadata": {},
   "outputs": [
    {
     "name": "stdout",
     "output_type": "stream",
     "text": [
      "Enter a number10\n",
      "0\n",
      "1\n",
      "1\n",
      "2\n",
      "3\n",
      "5\n",
      "8\n",
      "13\n",
      "21\n",
      "34\n",
      "55\n",
      "89\n"
     ]
    }
   ],
   "source": [
    "#fibonocii numbers\n",
    "n=int(input(\"Enter a number\"))\n",
    "a=0\n",
    "b=1\n",
    "print(a)\n",
    "print(b)\n",
    "for i in range(0,n,1):\n",
    "    s=a+b\n",
    "    a=b\n",
    "    b=s\n",
    "    print(s)"
   ]
  },
  {
   "cell_type": "code",
   "execution_count": 137,
   "id": "3bbb5dbe",
   "metadata": {},
   "outputs": [
    {
     "name": "stdout",
     "output_type": "stream",
     "text": [
      "1\n",
      "2\n",
      "3\n",
      "4\n"
     ]
    }
   ],
   "source": [
    "#branching statements\n",
    "#break\n",
    "for i in range(1,10):\n",
    "    if i==5:\n",
    "        break\n",
    "    print(i)"
   ]
  },
  {
   "cell_type": "code",
   "execution_count": null,
   "id": "c857490b",
   "metadata": {},
   "outputs": [],
   "source": [
    "#continue\n",
    "for i in range(1,10):\n",
    "    if i==4:\n",
    "        continue\n",
    "    print(i)"
   ]
  },
  {
   "cell_type": "code",
   "execution_count": 139,
   "id": "6a21fb3f",
   "metadata": {},
   "outputs": [
    {
     "name": "stdout",
     "output_type": "stream",
     "text": [
      "10\n",
      "123\n"
     ]
    }
   ],
   "source": [
    "#return \\\n",
    "def fun1():\n",
    "    x=10\n",
    "    return x\n",
    "def fun2():\n",
    "    y=123\n",
    "    return y\n",
    "print(fun1())\n",
    "print(fun2())"
   ]
  },
  {
   "cell_type": "markdown",
   "id": "4e1dd83a",
   "metadata": {},
   "source": [
    "# Objects & Classes Date:14-5-22"
   ]
  },
  {
   "cell_type": "markdown",
   "id": "56a4fbab",
   "metadata": {},
   "source": [
    "object is defined a group of objects that share common properties and behavior like car is class model,wheels price etc\n",
    "it is userdefined blueprint of class\n",
    "objects are derived from the class"
   ]
  },
  {
   "cell_type": "code",
   "execution_count": 151,
   "id": "7cc1665b",
   "metadata": {},
   "outputs": [
    {
     "name": "stdout",
     "output_type": "stream",
     "text": [
      "hello world\n"
     ]
    }
   ],
   "source": [
    "class myclass:\n",
    "      def func(self):\n",
    "        print(\"hello world\")\n",
    "        \n",
    "x=myclass()\n",
    "x.func()"
   ]
  },
  {
   "cell_type": "code",
   "execution_count": 166,
   "id": "9bae7a12",
   "metadata": {},
   "outputs": [
    {
     "name": "stdout",
     "output_type": "stream",
     "text": [
      "ammani\n",
      "welcome\n"
     ]
    }
   ],
   "source": [
    "class student:\n",
    "    def __init__(self,name):\n",
    "        self.name=name\n",
    "    def display(self):\n",
    "        print(self.name)\n",
    "    def func(self):\n",
    "        print(\"welcome\")\n",
    "x=student(\"ammani\")\n",
    "x.display()\n",
    "x.name\n",
    "x.func()"
   ]
  },
  {
   "cell_type": "code",
   "execution_count": 170,
   "id": "368619eb",
   "metadata": {},
   "outputs": [
    {
     "name": "stdout",
     "output_type": "stream",
     "text": [
      "ammani\n",
      "204\n",
      "sravani\n",
      "234\n"
     ]
    }
   ],
   "source": [
    "class student:\n",
    "    def __init__(self,name,rollno):\n",
    "        self.name=name\n",
    "        self.rollno=rollno\n",
    "    def display(self):\n",
    "        print(self.name)\n",
    "        print(self.rollno)\n",
    "s1=student(\"ammani\",204)\n",
    "s1.display()\n",
    "s2=student(\"sravani\",234)\n",
    "s2.display()"
   ]
  },
  {
   "cell_type": "code",
   "execution_count": 175,
   "id": "2713b000",
   "metadata": {},
   "outputs": [
    {
     "name": "stdout",
     "output_type": "stream",
     "text": [
      "cat\n",
      "i am a cat\n",
      "i am a dog\n"
     ]
    }
   ],
   "source": [
    "class dog:\n",
    "    attr1=\"cat\"\n",
    "    attr2=\"dog\"\n",
    "    def func(self):\n",
    "        print(\"i am a\",self.attr1)\n",
    "        print(\"i am a\",self.attr2)\n",
    "x=dog()\n",
    "print(x.attr1)\n",
    "x.func()"
   ]
  },
  {
   "cell_type": "markdown",
   "id": "2a71995d",
   "metadata": {},
   "source": [
    "# unit2\n",
    "# file handlinding  Date:13-5-2022"
   ]
  },
  {
   "cell_type": "code",
   "execution_count": 2,
   "id": "3e989850",
   "metadata": {},
   "outputs": [],
   "source": [
    "f=open(\"file.txt\")\n",
    "f.close()"
   ]
  },
  {
   "cell_type": "code",
   "execution_count": 5,
   "id": "901d7f9e",
   "metadata": {},
   "outputs": [
    {
     "name": "stdout",
     "output_type": "stream",
     "text": [
      "Sravani Is Good girl 2003 @12\n",
      "this is ammani\n",
      "\n"
     ]
    }
   ],
   "source": [
    "f=open(\"file.txt\",\"r\")\n",
    "print(f.read())\n",
    "f.close()"
   ]
  },
  {
   "cell_type": "code",
   "execution_count": 7,
   "id": "170cae57",
   "metadata": {},
   "outputs": [
    {
     "name": "stdout",
     "output_type": "stream",
     "text": [
      "Sravani Is\n"
     ]
    }
   ],
   "source": [
    "f=open(\"file.txt\",\"r\")\n",
    "print(f.read(10))\n",
    "f.close()"
   ]
  },
  {
   "cell_type": "code",
   "execution_count": 8,
   "id": "d3466e7a",
   "metadata": {},
   "outputs": [
    {
     "name": "stdout",
     "output_type": "stream",
     "text": [
      "Sravani Is Good girl 2003 @12\n",
      "\n"
     ]
    }
   ],
   "source": [
    "f=open(\"file.txt\",\"r\")\n",
    "print(f.readline())\n",
    "f.close()"
   ]
  },
  {
   "cell_type": "code",
   "execution_count": 9,
   "id": "9dc8b534",
   "metadata": {},
   "outputs": [
    {
     "name": "stdout",
     "output_type": "stream",
     "text": [
      "Sravani Is Good girl 2003 @12\n",
      "\n",
      "this is ammani\n",
      "\n"
     ]
    }
   ],
   "source": [
    "f=open(\"file.txt\",\"r\")\n",
    "print(f.readline())\n",
    "print(f.readline())\n",
    "f.close()"
   ]
  },
  {
   "cell_type": "code",
   "execution_count": 10,
   "id": "d7a6ecb8",
   "metadata": {},
   "outputs": [],
   "source": [
    "f=open(\"file.txt\",\"a\")\n",
    "f.write(\"sravni is bad girl\")\n",
    "f.close()"
   ]
  },
  {
   "cell_type": "code",
   "execution_count": 12,
   "id": "4af5f203",
   "metadata": {},
   "outputs": [
    {
     "name": "stdout",
     "output_type": "stream",
     "text": [
      "Sravani Is Good girl 2003 @12\n",
      "this is ammani\n",
      "sravni is bad girl\n"
     ]
    }
   ],
   "source": [
    "f=open(\"file.txt\",\"r\")\n",
    "print(f.read())\n",
    "f.close()"
   ]
  },
  {
   "cell_type": "markdown",
   "id": "c17c0679",
   "metadata": {},
   "source": [
    "# Regular Expressions  (14-5-22)"
   ]
  },
  {
   "cell_type": "markdown",
   "id": "ce21f0fb",
   "metadata": {},
   "source": [
    "1.to extract the information to text,\"re\" is the module it is a collection of predefined functions,to check the if pattern contains the specifies string\n",
    "match():to test the input string starts with specified pattern or not\n",
    "search():to test the specified pattern is present are not in given input\n",
    "find():to find duplicates for specified pattern\n",
    "split():how to split the input string ,sub():replace the substring,compile():used to create pattern object and can be re-used"
   ]
  },
  {
   "cell_type": "code",
   "execution_count": 27,
   "id": "6c2b94e1",
   "metadata": {},
   "outputs": [
    {
     "name": "stdout",
     "output_type": "stream",
     "text": [
      "['a', 'a', 'a', 'a']\n"
     ]
    }
   ],
   "source": [
    "#find all produce the no of occernces characters in txt if not available get empty string\n",
    "import re\n",
    "txt=\"i am ammani poluparthi\"\n",
    "x=re.findall(\"a\",txt)\n",
    "print(x)"
   ]
  },
  {
   "cell_type": "code",
   "execution_count": 28,
   "id": "ada6280a",
   "metadata": {},
   "outputs": [
    {
     "name": "stdout",
     "output_type": "stream",
     "text": [
      "<re.Match object; span=(5, 9), match='amma'>\n"
     ]
    }
   ],
   "source": [
    "#search to find txt is matched or not it matched it gives match object else null\n",
    "import re\n",
    "txt=\"i am ammani poluparthi\"\n",
    "x=re.search(\"amma\",txt)\n",
    "print(x)"
   ]
  },
  {
   "cell_type": "code",
   "execution_count": 31,
   "id": "b19e8ad2",
   "metadata": {},
   "outputs": [
    {
     "name": "stdout",
     "output_type": "stream",
     "text": [
      "5\n",
      "(5, 9)\n",
      "i am ammani poluparthi\n",
      "amma\n"
     ]
    }
   ],
   "source": [
    "#match obeject types\n",
    "#index no\n",
    "print(x.start())\n",
    "#gives range\n",
    "print(x.span())\n",
    "print(x.string)\n",
    "print(x.group())"
   ]
  },
  {
   "cell_type": "code",
   "execution_count": 14,
   "id": "72abc07d",
   "metadata": {},
   "outputs": [
    {
     "name": "stdout",
     "output_type": "stream",
     "text": [
      "['i am ', ' poluparthi']\n",
      "['', 'i', ' ', 'a', 'm', ' ', 'a', 'm', 'm', 'a', 'n', 'i', ' ', 'p', 'o', 'l', 'u', 'p', 'a', 'r', 't', 'h', 'i', '']\n"
     ]
    }
   ],
   "source": [
    "import re\n",
    "txt=\"i am ammani poluparthi\"\n",
    "x=re.split(\"ammani\",txt)\n",
    "y=re.split(\"\",txt)\n",
    "print(x)\n",
    "print(y)"
   ]
  },
  {
   "cell_type": "code",
   "execution_count": 15,
   "id": "35a42754",
   "metadata": {},
   "outputs": [
    {
     "name": "stdout",
     "output_type": "stream",
     "text": [
      "i am sravani poluparthi\n"
     ]
    }
   ],
   "source": [
    "#sub() is replace\n",
    "import re\n",
    "txt=\"i am ammani poluparthi\"\n",
    "x=re.sub(\"ammani\",\"sravani\",txt)\n",
    "print(x)"
   ]
  },
  {
   "cell_type": "markdown",
   "id": "ff0ee3b4",
   "metadata": {},
   "source": [
    "# Pandas  Date:13-6-2022"
   ]
  },
  {
   "cell_type": "markdown",
   "id": "b162a190",
   "metadata": {},
   "source": [
    "1.it is a open souece library that provides high performance data manipulation in python\n",
    "2.it is working on data sets,it is fast and flexible data structures designed to make working with relational or labeled data and it efficiencly handles large data\n",
    "3.mainly pandas is used to analyze the data"
   ]
  },
  {
   "cell_type": "code",
   "execution_count": 2,
   "id": "0e72f009",
   "metadata": {},
   "outputs": [
    {
     "data": {
      "text/html": [
       "<div>\n",
       "<style scoped>\n",
       "    .dataframe tbody tr th:only-of-type {\n",
       "        vertical-align: middle;\n",
       "    }\n",
       "\n",
       "    .dataframe tbody tr th {\n",
       "        vertical-align: top;\n",
       "    }\n",
       "\n",
       "    .dataframe thead th {\n",
       "        text-align: right;\n",
       "    }\n",
       "</style>\n",
       "<table border=\"1\" class=\"dataframe\">\n",
       "  <thead>\n",
       "    <tr style=\"text-align: right;\">\n",
       "      <th></th>\n",
       "      <th>Unnamed: 0</th>\n",
       "      <th>Name</th>\n",
       "      <th>Age</th>\n",
       "      <th>Salary</th>\n",
       "    </tr>\n",
       "  </thead>\n",
       "  <tbody>\n",
       "    <tr>\n",
       "      <th>0</th>\n",
       "      <td>0</td>\n",
       "      <td>Bhanu</td>\n",
       "      <td>18</td>\n",
       "      <td>1500</td>\n",
       "    </tr>\n",
       "    <tr>\n",
       "      <th>1</th>\n",
       "      <td>1</td>\n",
       "      <td>Sravani</td>\n",
       "      <td>17</td>\n",
       "      <td>1200</td>\n",
       "    </tr>\n",
       "    <tr>\n",
       "      <th>2</th>\n",
       "      <td>2</td>\n",
       "      <td>Rani</td>\n",
       "      <td>20</td>\n",
       "      <td>2200</td>\n",
       "    </tr>\n",
       "    <tr>\n",
       "      <th>3</th>\n",
       "      <td>3</td>\n",
       "      <td>Pavani</td>\n",
       "      <td>19</td>\n",
       "      <td>1700</td>\n",
       "    </tr>\n",
       "    <tr>\n",
       "      <th>4</th>\n",
       "      <td>4</td>\n",
       "      <td>Anu</td>\n",
       "      <td>16</td>\n",
       "      <td>1600</td>\n",
       "    </tr>\n",
       "    <tr>\n",
       "      <th>5</th>\n",
       "      <td>5</td>\n",
       "      <td>Kavya</td>\n",
       "      <td>25</td>\n",
       "      <td>3000</td>\n",
       "    </tr>\n",
       "    <tr>\n",
       "      <th>6</th>\n",
       "      <td>6</td>\n",
       "      <td>Monika</td>\n",
       "      <td>26</td>\n",
       "      <td>3200</td>\n",
       "    </tr>\n",
       "    <tr>\n",
       "      <th>7</th>\n",
       "      <td>7</td>\n",
       "      <td>Bhavya</td>\n",
       "      <td>22</td>\n",
       "      <td>1800</td>\n",
       "    </tr>\n",
       "    <tr>\n",
       "      <th>8</th>\n",
       "      <td>8</td>\n",
       "      <td>Manasa</td>\n",
       "      <td>30</td>\n",
       "      <td>2500</td>\n",
       "    </tr>\n",
       "  </tbody>\n",
       "</table>\n",
       "</div>"
      ],
      "text/plain": [
       "   Unnamed: 0     Name  Age  Salary\n",
       "0           0    Bhanu   18    1500\n",
       "1           1  Sravani   17    1200\n",
       "2           2     Rani   20    2200\n",
       "3           3   Pavani   19    1700\n",
       "4           4      Anu   16    1600\n",
       "5           5    Kavya   25    3000\n",
       "6           6   Monika   26    3200\n",
       "7           7   Bhavya   22    1800\n",
       "8           8   Manasa   30    2500"
      ]
     },
     "execution_count": 2,
     "metadata": {},
     "output_type": "execute_result"
    }
   ],
   "source": [
    "import pandas as pd\n",
    "df=pd.read_csv(\"pandas.csv\")\n",
    "df"
   ]
  },
  {
   "cell_type": "code",
   "execution_count": 3,
   "id": "42efefce",
   "metadata": {},
   "outputs": [
    {
     "name": "stdout",
     "output_type": "stream",
     "text": [
      "<class 'pandas.core.frame.DataFrame'>\n"
     ]
    }
   ],
   "source": [
    "print(type(df))"
   ]
  },
  {
   "cell_type": "code",
   "execution_count": 4,
   "id": "d4e7f40b",
   "metadata": {},
   "outputs": [
    {
     "data": {
      "text/html": [
       "<div>\n",
       "<style scoped>\n",
       "    .dataframe tbody tr th:only-of-type {\n",
       "        vertical-align: middle;\n",
       "    }\n",
       "\n",
       "    .dataframe tbody tr th {\n",
       "        vertical-align: top;\n",
       "    }\n",
       "\n",
       "    .dataframe thead th {\n",
       "        text-align: right;\n",
       "    }\n",
       "</style>\n",
       "<table border=\"1\" class=\"dataframe\">\n",
       "  <thead>\n",
       "    <tr style=\"text-align: right;\">\n",
       "      <th></th>\n",
       "      <th>Unnamed: 0</th>\n",
       "      <th>Name</th>\n",
       "      <th>Age</th>\n",
       "      <th>Salary</th>\n",
       "    </tr>\n",
       "  </thead>\n",
       "  <tbody>\n",
       "    <tr>\n",
       "      <th>0</th>\n",
       "      <td>0</td>\n",
       "      <td>Bhanu</td>\n",
       "      <td>18</td>\n",
       "      <td>1500</td>\n",
       "    </tr>\n",
       "    <tr>\n",
       "      <th>1</th>\n",
       "      <td>1</td>\n",
       "      <td>Sravani</td>\n",
       "      <td>17</td>\n",
       "      <td>1200</td>\n",
       "    </tr>\n",
       "    <tr>\n",
       "      <th>2</th>\n",
       "      <td>2</td>\n",
       "      <td>Rani</td>\n",
       "      <td>20</td>\n",
       "      <td>2200</td>\n",
       "    </tr>\n",
       "    <tr>\n",
       "      <th>3</th>\n",
       "      <td>3</td>\n",
       "      <td>Pavani</td>\n",
       "      <td>19</td>\n",
       "      <td>1700</td>\n",
       "    </tr>\n",
       "    <tr>\n",
       "      <th>4</th>\n",
       "      <td>4</td>\n",
       "      <td>Anu</td>\n",
       "      <td>16</td>\n",
       "      <td>1600</td>\n",
       "    </tr>\n",
       "  </tbody>\n",
       "</table>\n",
       "</div>"
      ],
      "text/plain": [
       "   Unnamed: 0     Name  Age  Salary\n",
       "0           0    Bhanu   18    1500\n",
       "1           1  Sravani   17    1200\n",
       "2           2     Rani   20    2200\n",
       "3           3   Pavani   19    1700\n",
       "4           4      Anu   16    1600"
      ]
     },
     "execution_count": 4,
     "metadata": {},
     "output_type": "execute_result"
    }
   ],
   "source": [
    "df.head()"
   ]
  },
  {
   "cell_type": "code",
   "execution_count": 5,
   "id": "d317c9bc",
   "metadata": {},
   "outputs": [
    {
     "data": {
      "text/html": [
       "<div>\n",
       "<style scoped>\n",
       "    .dataframe tbody tr th:only-of-type {\n",
       "        vertical-align: middle;\n",
       "    }\n",
       "\n",
       "    .dataframe tbody tr th {\n",
       "        vertical-align: top;\n",
       "    }\n",
       "\n",
       "    .dataframe thead th {\n",
       "        text-align: right;\n",
       "    }\n",
       "</style>\n",
       "<table border=\"1\" class=\"dataframe\">\n",
       "  <thead>\n",
       "    <tr style=\"text-align: right;\">\n",
       "      <th></th>\n",
       "      <th>Unnamed: 0</th>\n",
       "      <th>Name</th>\n",
       "      <th>Age</th>\n",
       "      <th>Salary</th>\n",
       "    </tr>\n",
       "  </thead>\n",
       "  <tbody>\n",
       "    <tr>\n",
       "      <th>4</th>\n",
       "      <td>4</td>\n",
       "      <td>Anu</td>\n",
       "      <td>16</td>\n",
       "      <td>1600</td>\n",
       "    </tr>\n",
       "    <tr>\n",
       "      <th>5</th>\n",
       "      <td>5</td>\n",
       "      <td>Kavya</td>\n",
       "      <td>25</td>\n",
       "      <td>3000</td>\n",
       "    </tr>\n",
       "    <tr>\n",
       "      <th>6</th>\n",
       "      <td>6</td>\n",
       "      <td>Monika</td>\n",
       "      <td>26</td>\n",
       "      <td>3200</td>\n",
       "    </tr>\n",
       "    <tr>\n",
       "      <th>7</th>\n",
       "      <td>7</td>\n",
       "      <td>Bhavya</td>\n",
       "      <td>22</td>\n",
       "      <td>1800</td>\n",
       "    </tr>\n",
       "    <tr>\n",
       "      <th>8</th>\n",
       "      <td>8</td>\n",
       "      <td>Manasa</td>\n",
       "      <td>30</td>\n",
       "      <td>2500</td>\n",
       "    </tr>\n",
       "  </tbody>\n",
       "</table>\n",
       "</div>"
      ],
      "text/plain": [
       "   Unnamed: 0    Name  Age  Salary\n",
       "4           4     Anu   16    1600\n",
       "5           5   Kavya   25    3000\n",
       "6           6  Monika   26    3200\n",
       "7           7  Bhavya   22    1800\n",
       "8           8  Manasa   30    2500"
      ]
     },
     "execution_count": 5,
     "metadata": {},
     "output_type": "execute_result"
    }
   ],
   "source": [
    "df.tail()"
   ]
  },
  {
   "cell_type": "code",
   "execution_count": 6,
   "id": "6577968e",
   "metadata": {},
   "outputs": [
    {
     "name": "stdout",
     "output_type": "stream",
     "text": [
      "<class 'pandas.core.frame.DataFrame'>\n",
      "RangeIndex: 9 entries, 0 to 8\n",
      "Data columns (total 4 columns):\n",
      " #   Column      Non-Null Count  Dtype \n",
      "---  ------      --------------  ----- \n",
      " 0   Unnamed: 0  9 non-null      int64 \n",
      " 1   Name        9 non-null      object\n",
      " 2   Age         9 non-null      int64 \n",
      " 3   Salary      9 non-null      int64 \n",
      "dtypes: int64(3), object(1)\n",
      "memory usage: 416.0+ bytes\n"
     ]
    }
   ],
   "source": [
    "df.info()"
   ]
  },
  {
   "cell_type": "code",
   "execution_count": 7,
   "id": "13315b1b",
   "metadata": {},
   "outputs": [
    {
     "data": {
      "text/html": [
       "<div>\n",
       "<style scoped>\n",
       "    .dataframe tbody tr th:only-of-type {\n",
       "        vertical-align: middle;\n",
       "    }\n",
       "\n",
       "    .dataframe tbody tr th {\n",
       "        vertical-align: top;\n",
       "    }\n",
       "\n",
       "    .dataframe thead th {\n",
       "        text-align: right;\n",
       "    }\n",
       "</style>\n",
       "<table border=\"1\" class=\"dataframe\">\n",
       "  <thead>\n",
       "    <tr style=\"text-align: right;\">\n",
       "      <th></th>\n",
       "      <th>Name</th>\n",
       "      <th>Age</th>\n",
       "    </tr>\n",
       "  </thead>\n",
       "  <tbody>\n",
       "    <tr>\n",
       "      <th>0</th>\n",
       "      <td>Bhanu</td>\n",
       "      <td>18</td>\n",
       "    </tr>\n",
       "    <tr>\n",
       "      <th>1</th>\n",
       "      <td>Sravani</td>\n",
       "      <td>17</td>\n",
       "    </tr>\n",
       "    <tr>\n",
       "      <th>2</th>\n",
       "      <td>Rani</td>\n",
       "      <td>20</td>\n",
       "    </tr>\n",
       "    <tr>\n",
       "      <th>3</th>\n",
       "      <td>Pavani</td>\n",
       "      <td>19</td>\n",
       "    </tr>\n",
       "    <tr>\n",
       "      <th>4</th>\n",
       "      <td>Anu</td>\n",
       "      <td>16</td>\n",
       "    </tr>\n",
       "    <tr>\n",
       "      <th>5</th>\n",
       "      <td>Kavya</td>\n",
       "      <td>25</td>\n",
       "    </tr>\n",
       "    <tr>\n",
       "      <th>6</th>\n",
       "      <td>Monika</td>\n",
       "      <td>26</td>\n",
       "    </tr>\n",
       "    <tr>\n",
       "      <th>7</th>\n",
       "      <td>Bhavya</td>\n",
       "      <td>22</td>\n",
       "    </tr>\n",
       "    <tr>\n",
       "      <th>8</th>\n",
       "      <td>Manasa</td>\n",
       "      <td>30</td>\n",
       "    </tr>\n",
       "  </tbody>\n",
       "</table>\n",
       "</div>"
      ],
      "text/plain": [
       "      Name  Age\n",
       "0    Bhanu   18\n",
       "1  Sravani   17\n",
       "2     Rani   20\n",
       "3   Pavani   19\n",
       "4      Anu   16\n",
       "5    Kavya   25\n",
       "6   Monika   26\n",
       "7   Bhavya   22\n",
       "8   Manasa   30"
      ]
     },
     "execution_count": 7,
     "metadata": {},
     "output_type": "execute_result"
    }
   ],
   "source": [
    "df[[\"Name\",\"Age\"]]"
   ]
  },
  {
   "cell_type": "code",
   "execution_count": 8,
   "id": "6278b517",
   "metadata": {},
   "outputs": [
    {
     "data": {
      "text/plain": [
       "0    False\n",
       "1    False\n",
       "2     True\n",
       "3     True\n",
       "4    False\n",
       "5     True\n",
       "6     True\n",
       "7     True\n",
       "8     True\n",
       "Name: Age, dtype: bool"
      ]
     },
     "execution_count": 8,
     "metadata": {},
     "output_type": "execute_result"
    }
   ],
   "source": [
    "df[\"Age\"]>18"
   ]
  },
  {
   "cell_type": "code",
   "execution_count": 13,
   "id": "7ddfcbf0",
   "metadata": {},
   "outputs": [
    {
     "name": "stdout",
     "output_type": "stream",
     "text": [
      "30\n",
      "16\n",
      "193\n",
      "21.444444444444443\n",
      "20.0\n",
      "0    16\n",
      "1    17\n",
      "2    18\n",
      "3    19\n",
      "4    20\n",
      "5    22\n",
      "6    25\n",
      "7    26\n",
      "8    30\n",
      "dtype: int64\n"
     ]
    }
   ],
   "source": [
    "print(df[\"Age\"].max())\n",
    "print(df[\"Age\"].min())\n",
    "print(df[\"Age\"].sum())\n",
    "print(df[\"Age\"].mean())\n",
    "print(df[\"Age\"].median())\n",
    "print(df[\"Age\"].mode())"
   ]
  },
  {
   "cell_type": "code",
   "execution_count": 14,
   "id": "ce14b4d6",
   "metadata": {},
   "outputs": [
    {
     "data": {
      "text/plain": [
       "count     9.000000\n",
       "mean     21.444444\n",
       "std       4.693376\n",
       "min      16.000000\n",
       "25%      18.000000\n",
       "50%      20.000000\n",
       "75%      25.000000\n",
       "max      30.000000\n",
       "Name: Age, dtype: float64"
      ]
     },
     "execution_count": 14,
     "metadata": {},
     "output_type": "execute_result"
    }
   ],
   "source": [
    "df.Age.describe()"
   ]
  },
  {
   "cell_type": "code",
   "execution_count": 29,
   "id": "41fabc74",
   "metadata": {},
   "outputs": [
    {
     "name": "stdout",
     "output_type": "stream",
     "text": [
      "Unnamed: 0          1\n",
      "Name          Sravani\n",
      "Age                 2\n",
      "Salary            100\n",
      "Name: 1, dtype: object\n"
     ]
    }
   ],
   "source": [
    "print(df.loc[1])"
   ]
  },
  {
   "cell_type": "code",
   "execution_count": 30,
   "id": "00dd890d",
   "metadata": {},
   "outputs": [
    {
     "data": {
      "text/html": [
       "<div>\n",
       "<style scoped>\n",
       "    .dataframe tbody tr th:only-of-type {\n",
       "        vertical-align: middle;\n",
       "    }\n",
       "\n",
       "    .dataframe tbody tr th {\n",
       "        vertical-align: top;\n",
       "    }\n",
       "\n",
       "    .dataframe thead th {\n",
       "        text-align: right;\n",
       "    }\n",
       "</style>\n",
       "<table border=\"1\" class=\"dataframe\">\n",
       "  <thead>\n",
       "    <tr style=\"text-align: right;\">\n",
       "      <th></th>\n",
       "      <th>Unnamed: 0</th>\n",
       "      <th>Name</th>\n",
       "      <th>Age</th>\n",
       "      <th>Salary</th>\n",
       "    </tr>\n",
       "  </thead>\n",
       "  <tbody>\n",
       "    <tr>\n",
       "      <th>0</th>\n",
       "      <td>0</td>\n",
       "      <td>Bhanu</td>\n",
       "      <td>1</td>\n",
       "      <td>100</td>\n",
       "    </tr>\n",
       "    <tr>\n",
       "      <th>1</th>\n",
       "      <td>1</td>\n",
       "      <td>Sravani</td>\n",
       "      <td>2</td>\n",
       "      <td>100</td>\n",
       "    </tr>\n",
       "    <tr>\n",
       "      <th>2</th>\n",
       "      <td>2</td>\n",
       "      <td>Rani</td>\n",
       "      <td>3</td>\n",
       "      <td>100</td>\n",
       "    </tr>\n",
       "    <tr>\n",
       "      <th>3</th>\n",
       "      <td>3</td>\n",
       "      <td>Pavani</td>\n",
       "      <td>4</td>\n",
       "      <td>100</td>\n",
       "    </tr>\n",
       "    <tr>\n",
       "      <th>4</th>\n",
       "      <td>4</td>\n",
       "      <td>Anu</td>\n",
       "      <td>5</td>\n",
       "      <td>100</td>\n",
       "    </tr>\n",
       "    <tr>\n",
       "      <th>5</th>\n",
       "      <td>5</td>\n",
       "      <td>Kavya</td>\n",
       "      <td>6</td>\n",
       "      <td>100</td>\n",
       "    </tr>\n",
       "    <tr>\n",
       "      <th>6</th>\n",
       "      <td>6</td>\n",
       "      <td>Monika</td>\n",
       "      <td>7</td>\n",
       "      <td>100</td>\n",
       "    </tr>\n",
       "    <tr>\n",
       "      <th>7</th>\n",
       "      <td>7</td>\n",
       "      <td>Bhavya</td>\n",
       "      <td>8</td>\n",
       "      <td>100</td>\n",
       "    </tr>\n",
       "    <tr>\n",
       "      <th>8</th>\n",
       "      <td>8</td>\n",
       "      <td>Manasa</td>\n",
       "      <td>9</td>\n",
       "      <td>100</td>\n",
       "    </tr>\n",
       "  </tbody>\n",
       "</table>\n",
       "</div>"
      ],
      "text/plain": [
       "   Unnamed: 0     Name Age  Salary\n",
       "0           0    Bhanu   1     100\n",
       "1           1  Sravani   2     100\n",
       "2           2     Rani   3     100\n",
       "3           3   Pavani   4     100\n",
       "4           4      Anu   5     100\n",
       "5           5    Kavya   6     100\n",
       "6           6   Monika   7     100\n",
       "7           7   Bhavya   8     100\n",
       "8           8   Manasa   9     100"
      ]
     },
     "execution_count": 30,
     "metadata": {},
     "output_type": "execute_result"
    }
   ],
   "source": [
    "df"
   ]
  },
  {
   "cell_type": "code",
   "execution_count": 31,
   "id": "039b8c27",
   "metadata": {},
   "outputs": [
    {
     "data": {
      "text/html": [
       "<div>\n",
       "<style scoped>\n",
       "    .dataframe tbody tr th:only-of-type {\n",
       "        vertical-align: middle;\n",
       "    }\n",
       "\n",
       "    .dataframe tbody tr th {\n",
       "        vertical-align: top;\n",
       "    }\n",
       "\n",
       "    .dataframe thead th {\n",
       "        text-align: right;\n",
       "    }\n",
       "</style>\n",
       "<table border=\"1\" class=\"dataframe\">\n",
       "  <thead>\n",
       "    <tr style=\"text-align: right;\">\n",
       "      <th></th>\n",
       "      <th>Unnamed: 0</th>\n",
       "      <th>Name</th>\n",
       "      <th>Age</th>\n",
       "      <th>Salary</th>\n",
       "    </tr>\n",
       "  </thead>\n",
       "  <tbody>\n",
       "    <tr>\n",
       "      <th>0</th>\n",
       "      <td>0</td>\n",
       "      <td>Bhanu</td>\n",
       "      <td>1</td>\n",
       "      <td>100</td>\n",
       "    </tr>\n",
       "    <tr>\n",
       "      <th>1</th>\n",
       "      <td>1</td>\n",
       "      <td>Sravani</td>\n",
       "      <td>2</td>\n",
       "      <td>100</td>\n",
       "    </tr>\n",
       "    <tr>\n",
       "      <th>2</th>\n",
       "      <td>2</td>\n",
       "      <td>Rani</td>\n",
       "      <td>3</td>\n",
       "      <td>100</td>\n",
       "    </tr>\n",
       "    <tr>\n",
       "      <th>3</th>\n",
       "      <td>3</td>\n",
       "      <td>Pavani</td>\n",
       "      <td>4</td>\n",
       "      <td>100</td>\n",
       "    </tr>\n",
       "    <tr>\n",
       "      <th>4</th>\n",
       "      <td>4</td>\n",
       "      <td>Anu</td>\n",
       "      <td>5</td>\n",
       "      <td>100</td>\n",
       "    </tr>\n",
       "    <tr>\n",
       "      <th>5</th>\n",
       "      <td>5</td>\n",
       "      <td>Kavya</td>\n",
       "      <td>6</td>\n",
       "      <td>100</td>\n",
       "    </tr>\n",
       "    <tr>\n",
       "      <th>6</th>\n",
       "      <td>6</td>\n",
       "      <td>Monika</td>\n",
       "      <td>7</td>\n",
       "      <td>100</td>\n",
       "    </tr>\n",
       "    <tr>\n",
       "      <th>7</th>\n",
       "      <td>7</td>\n",
       "      <td>Bhavya</td>\n",
       "      <td>8</td>\n",
       "      <td>100</td>\n",
       "    </tr>\n",
       "    <tr>\n",
       "      <th>8</th>\n",
       "      <td>8</td>\n",
       "      <td>Manasa</td>\n",
       "      <td>9</td>\n",
       "      <td>100</td>\n",
       "    </tr>\n",
       "  </tbody>\n",
       "</table>\n",
       "</div>"
      ],
      "text/plain": [
       "   Unnamed: 0     Name Age  Salary\n",
       "0           0    Bhanu   1     100\n",
       "1           1  Sravani   2     100\n",
       "2           2     Rani   3     100\n",
       "3           3   Pavani   4     100\n",
       "4           4      Anu   5     100\n",
       "5           5    Kavya   6     100\n",
       "6           6   Monika   7     100\n",
       "7           7   Bhavya   8     100\n",
       "8           8   Manasa   9     100"
      ]
     },
     "execution_count": 31,
     "metadata": {},
     "output_type": "execute_result"
    }
   ],
   "source": [
    "df['Age']=[\"1\",\"2\",\"3\",\"4\",\"5\",\"6\",\"7\",\"8\",\"9\"]\n",
    "df"
   ]
  },
  {
   "cell_type": "code",
   "execution_count": 32,
   "id": "53c37a86",
   "metadata": {},
   "outputs": [
    {
     "data": {
      "text/html": [
       "<div>\n",
       "<style scoped>\n",
       "    .dataframe tbody tr th:only-of-type {\n",
       "        vertical-align: middle;\n",
       "    }\n",
       "\n",
       "    .dataframe tbody tr th {\n",
       "        vertical-align: top;\n",
       "    }\n",
       "\n",
       "    .dataframe thead th {\n",
       "        text-align: right;\n",
       "    }\n",
       "</style>\n",
       "<table border=\"1\" class=\"dataframe\">\n",
       "  <thead>\n",
       "    <tr style=\"text-align: right;\">\n",
       "      <th></th>\n",
       "      <th>Unnamed: 0</th>\n",
       "      <th>Name</th>\n",
       "      <th>Age</th>\n",
       "      <th>Salary</th>\n",
       "    </tr>\n",
       "  </thead>\n",
       "  <tbody>\n",
       "    <tr>\n",
       "      <th>0</th>\n",
       "      <td>0</td>\n",
       "      <td>Bhanu</td>\n",
       "      <td>1</td>\n",
       "      <td>100</td>\n",
       "    </tr>\n",
       "    <tr>\n",
       "      <th>1</th>\n",
       "      <td>1</td>\n",
       "      <td>Sravani</td>\n",
       "      <td>2</td>\n",
       "      <td>100</td>\n",
       "    </tr>\n",
       "    <tr>\n",
       "      <th>2</th>\n",
       "      <td>2</td>\n",
       "      <td>Rani</td>\n",
       "      <td>3</td>\n",
       "      <td>100</td>\n",
       "    </tr>\n",
       "    <tr>\n",
       "      <th>3</th>\n",
       "      <td>3</td>\n",
       "      <td>Pavani</td>\n",
       "      <td>4</td>\n",
       "      <td>100</td>\n",
       "    </tr>\n",
       "    <tr>\n",
       "      <th>4</th>\n",
       "      <td>4</td>\n",
       "      <td>Anu</td>\n",
       "      <td>5</td>\n",
       "      <td>100</td>\n",
       "    </tr>\n",
       "    <tr>\n",
       "      <th>5</th>\n",
       "      <td>5</td>\n",
       "      <td>Kavya</td>\n",
       "      <td>6</td>\n",
       "      <td>100</td>\n",
       "    </tr>\n",
       "    <tr>\n",
       "      <th>6</th>\n",
       "      <td>6</td>\n",
       "      <td>Monika</td>\n",
       "      <td>7</td>\n",
       "      <td>100</td>\n",
       "    </tr>\n",
       "    <tr>\n",
       "      <th>7</th>\n",
       "      <td>7</td>\n",
       "      <td>Bhavya</td>\n",
       "      <td>8</td>\n",
       "      <td>100</td>\n",
       "    </tr>\n",
       "    <tr>\n",
       "      <th>8</th>\n",
       "      <td>8</td>\n",
       "      <td>Manasa</td>\n",
       "      <td>9</td>\n",
       "      <td>100</td>\n",
       "    </tr>\n",
       "  </tbody>\n",
       "</table>\n",
       "</div>"
      ],
      "text/plain": [
       "   Unnamed: 0     Name Age  Salary\n",
       "0           0    Bhanu   1     100\n",
       "1           1  Sravani   2     100\n",
       "2           2     Rani   3     100\n",
       "3           3   Pavani   4     100\n",
       "4           4      Anu   5     100\n",
       "5           5    Kavya   6     100\n",
       "6           6   Monika   7     100\n",
       "7           7   Bhavya   8     100\n",
       "8           8   Manasa   9     100"
      ]
     },
     "execution_count": 32,
     "metadata": {},
     "output_type": "execute_result"
    }
   ],
   "source": [
    "df[\"Salary\"]=100\n",
    "df"
   ]
  },
  {
   "cell_type": "code",
   "execution_count": 34,
   "id": "863094e5",
   "metadata": {},
   "outputs": [
    {
     "data": {
      "text/plain": [
       "'Rani'"
      ]
     },
     "execution_count": 34,
     "metadata": {},
     "output_type": "execute_result"
    }
   ],
   "source": [
    "df.loc[2,\"Name\"]"
   ]
  },
  {
   "cell_type": "code",
   "execution_count": 35,
   "id": "bc147ca4",
   "metadata": {},
   "outputs": [
    {
     "data": {
      "text/plain": [
       "'3'"
      ]
     },
     "execution_count": 35,
     "metadata": {},
     "output_type": "execute_result"
    }
   ],
   "source": [
    "df.loc[2,\"Age\"]"
   ]
  },
  {
   "cell_type": "code",
   "execution_count": 40,
   "id": "42501469",
   "metadata": {},
   "outputs": [
    {
     "data": {
      "text/html": [
       "<div>\n",
       "<style scoped>\n",
       "    .dataframe tbody tr th:only-of-type {\n",
       "        vertical-align: middle;\n",
       "    }\n",
       "\n",
       "    .dataframe tbody tr th {\n",
       "        vertical-align: top;\n",
       "    }\n",
       "\n",
       "    .dataframe thead th {\n",
       "        text-align: right;\n",
       "    }\n",
       "</style>\n",
       "<table border=\"1\" class=\"dataframe\">\n",
       "  <thead>\n",
       "    <tr style=\"text-align: right;\">\n",
       "      <th></th>\n",
       "      <th>Unnamed: 0</th>\n",
       "      <th>Name</th>\n",
       "      <th>Age</th>\n",
       "      <th>Salary</th>\n",
       "    </tr>\n",
       "  </thead>\n",
       "  <tbody>\n",
       "    <tr>\n",
       "      <th>5</th>\n",
       "      <td>5</td>\n",
       "      <td>Kavya</td>\n",
       "      <td>25</td>\n",
       "      <td>3000</td>\n",
       "    </tr>\n",
       "    <tr>\n",
       "      <th>6</th>\n",
       "      <td>6</td>\n",
       "      <td>Monika</td>\n",
       "      <td>26</td>\n",
       "      <td>3200</td>\n",
       "    </tr>\n",
       "    <tr>\n",
       "      <th>7</th>\n",
       "      <td>7</td>\n",
       "      <td>Bhavya</td>\n",
       "      <td>22</td>\n",
       "      <td>1800</td>\n",
       "    </tr>\n",
       "    <tr>\n",
       "      <th>8</th>\n",
       "      <td>8</td>\n",
       "      <td>Manasa</td>\n",
       "      <td>30</td>\n",
       "      <td>2500</td>\n",
       "    </tr>\n",
       "  </tbody>\n",
       "</table>\n",
       "</div>"
      ],
      "text/plain": [
       "   Unnamed: 0    Name  Age  Salary\n",
       "5           5   Kavya   25    3000\n",
       "6           6  Monika   26    3200\n",
       "7           7  Bhavya   22    1800\n",
       "8           8  Manasa   30    2500"
      ]
     },
     "execution_count": 40,
     "metadata": {},
     "output_type": "execute_result"
    }
   ],
   "source": [
    "import pandas as pd\n",
    "data=pd.read_csv(\"pandas.csv\")\n",
    "newdata=data[(data.Age>20)&(data.Salary>100)]\n",
    "newdata"
   ]
  },
  {
   "cell_type": "code",
   "execution_count": 53,
   "id": "90dc5d89",
   "metadata": {},
   "outputs": [
    {
     "name": "stdout",
     "output_type": "stream",
     "text": [
      "0    1\n",
      "1    2\n",
      "2    3\n",
      "3    4\n",
      "4    5\n",
      "5    6\n",
      "dtype: int64\n"
     ]
    }
   ],
   "source": [
    "import pandas as pd\n",
    "x=pd.Series([1,2,3,4,5,6])\n",
    "print(x)"
   ]
  },
  {
   "cell_type": "code",
   "execution_count": 58,
   "id": "23649ca8",
   "metadata": {},
   "outputs": [
    {
     "name": "stdout",
     "output_type": "stream",
     "text": [
      "[1 2 3 4 5 6]\n",
      "(6,)\n",
      "6\n",
      "1\n",
      "48\n",
      "False\n"
     ]
    }
   ],
   "source": [
    "print(x.values)\n",
    "print(x.shape)\n",
    "print(x.size)\n",
    "print(x.ndim)\n",
    "print(x.nbytes)\n",
    "print(x.empty)"
   ]
  },
  {
   "cell_type": "code",
   "execution_count": 66,
   "id": "d8a18c7b",
   "metadata": {},
   "outputs": [
    {
     "data": {
      "text/html": [
       "<div>\n",
       "<style scoped>\n",
       "    .dataframe tbody tr th:only-of-type {\n",
       "        vertical-align: middle;\n",
       "    }\n",
       "\n",
       "    .dataframe tbody tr th {\n",
       "        vertical-align: top;\n",
       "    }\n",
       "\n",
       "    .dataframe thead th {\n",
       "        text-align: right;\n",
       "    }\n",
       "</style>\n",
       "<table border=\"1\" class=\"dataframe\">\n",
       "  <thead>\n",
       "    <tr style=\"text-align: right;\">\n",
       "      <th></th>\n",
       "      <th>Unnamed: 0</th>\n",
       "      <th>Name</th>\n",
       "      <th>Age</th>\n",
       "      <th>Salary</th>\n",
       "      <th>id no</th>\n",
       "    </tr>\n",
       "  </thead>\n",
       "  <tbody>\n",
       "    <tr>\n",
       "      <th>0</th>\n",
       "      <td>0</td>\n",
       "      <td>Ammani</td>\n",
       "      <td>1</td>\n",
       "      <td>100</td>\n",
       "      <td>204</td>\n",
       "    </tr>\n",
       "    <tr>\n",
       "      <th>1</th>\n",
       "      <td>1</td>\n",
       "      <td>Ammani</td>\n",
       "      <td>2</td>\n",
       "      <td>100</td>\n",
       "      <td>205</td>\n",
       "    </tr>\n",
       "    <tr>\n",
       "      <th>2</th>\n",
       "      <td>2</td>\n",
       "      <td>Ammani</td>\n",
       "      <td>3</td>\n",
       "      <td>100</td>\n",
       "      <td>355</td>\n",
       "    </tr>\n",
       "    <tr>\n",
       "      <th>3</th>\n",
       "      <td>3</td>\n",
       "      <td>Pavani</td>\n",
       "      <td>4</td>\n",
       "      <td>100</td>\n",
       "      <td>842</td>\n",
       "    </tr>\n",
       "    <tr>\n",
       "      <th>4</th>\n",
       "      <td>4</td>\n",
       "      <td>Anu</td>\n",
       "      <td>5</td>\n",
       "      <td>100</td>\n",
       "      <td>112</td>\n",
       "    </tr>\n",
       "    <tr>\n",
       "      <th>5</th>\n",
       "      <td>5</td>\n",
       "      <td>Kavya</td>\n",
       "      <td>6</td>\n",
       "      <td>100</td>\n",
       "      <td>456</td>\n",
       "    </tr>\n",
       "    <tr>\n",
       "      <th>6</th>\n",
       "      <td>6</td>\n",
       "      <td>Monika</td>\n",
       "      <td>7</td>\n",
       "      <td>100</td>\n",
       "      <td>234</td>\n",
       "    </tr>\n",
       "    <tr>\n",
       "      <th>7</th>\n",
       "      <td>7</td>\n",
       "      <td>Bhavya</td>\n",
       "      <td>8</td>\n",
       "      <td>100</td>\n",
       "      <td>678</td>\n",
       "    </tr>\n",
       "    <tr>\n",
       "      <th>8</th>\n",
       "      <td>8</td>\n",
       "      <td>Manasa</td>\n",
       "      <td>9</td>\n",
       "      <td>100</td>\n",
       "      <td>111</td>\n",
       "    </tr>\n",
       "  </tbody>\n",
       "</table>\n",
       "</div>"
      ],
      "text/plain": [
       "   Unnamed: 0    Name Age  Salary  id no\n",
       "0           0  Ammani   1     100    204\n",
       "1           1  Ammani   2     100    205\n",
       "2           2  Ammani   3     100    355\n",
       "3           3  Pavani   4     100    842\n",
       "4           4     Anu   5     100    112\n",
       "5           5   Kavya   6     100    456\n",
       "6           6  Monika   7     100    234\n",
       "7           7  Bhavya   8     100    678\n",
       "8           8  Manasa   9     100    111"
      ]
     },
     "execution_count": 66,
     "metadata": {},
     "output_type": "execute_result"
    }
   ],
   "source": [
    "df[\"id no\"]=[204,205,355,842,112,456,234,678,111]\n",
    "df"
   ]
  },
  {
   "cell_type": "code",
   "execution_count": 70,
   "id": "36f848cd",
   "metadata": {},
   "outputs": [
    {
     "name": "stdout",
     "output_type": "stream",
     "text": [
      "    a  b   c\n",
      "0  10  1  11\n",
      "1  20  2  12\n",
      "2  30  3  13\n"
     ]
    }
   ],
   "source": [
    "d={\n",
    "    \"a\":[10,20,30],\n",
    "    \"b\":[1,2,3],\n",
    "    \"c\":[11,12,13]\n",
    "}\n",
    "x=pd.DataFrame(d)\n",
    "print(x)"
   ]
  },
  {
   "cell_type": "markdown",
   "id": "b531d908",
   "metadata": {},
   "source": [
    "# Numpy "
   ]
  },
  {
   "cell_type": "markdown",
   "id": "08b029bc",
   "metadata": {},
   "source": [
    "1.numpy as numerical python\n",
    "2.it is a python library used for working with arrays"
   ]
  },
  {
   "cell_type": "code",
   "execution_count": null,
   "id": "fac001f8",
   "metadata": {},
   "outputs": [],
   "source": [
    "import numpy as np\n"
   ]
  }
 ],
 "metadata": {
  "kernelspec": {
   "display_name": "Python 3 (ipykernel)",
   "language": "python",
   "name": "python3"
  },
  "language_info": {
   "codemirror_mode": {
    "name": "ipython",
    "version": 3
   },
   "file_extension": ".py",
   "mimetype": "text/x-python",
   "name": "python",
   "nbconvert_exporter": "python",
   "pygments_lexer": "ipython3",
   "version": "3.9.7"
  }
 },
 "nbformat": 4,
 "nbformat_minor": 5
}
